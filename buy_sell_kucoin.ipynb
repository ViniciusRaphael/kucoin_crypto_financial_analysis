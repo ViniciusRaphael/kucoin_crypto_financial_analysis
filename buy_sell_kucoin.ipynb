{
 "cells": [
  {
   "cell_type": "code",
   "execution_count": 8,
   "metadata": {},
   "outputs": [],
   "source": [
    "import pandas as pd\n",
    "pd.set_option('display.max_rows', 500)\n",
    "import requests,json"
   ]
  },
  {
   "cell_type": "code",
   "execution_count": 9,
   "metadata": {},
   "outputs": [],
   "source": [
    "order_book = pd.read_json('order_book.json').T.reset_index()"
   ]
  },
  {
   "cell_type": "markdown",
   "metadata": {},
   "source": [
    "## Sold Cases"
   ]
  },
  {
   "cell_type": "code",
   "execution_count": 10,
   "metadata": {},
   "outputs": [],
   "source": [
    "order_book['profit_usd'] = order_book['sold_price'] * order_book['quantity'] - order_book['price'] * order_book['quantity']\n",
    "order_book['profit_%'] = ((order_book['sold_price'] / order_book['price']) - 1) * 100"
   ]
  },
  {
   "cell_type": "markdown",
   "metadata": {},
   "source": [
    "## Open Cases"
   ]
  },
  {
   "cell_type": "code",
   "execution_count": 11,
   "metadata": {},
   "outputs": [],
   "source": [
    "df_open = order_book[~order_book['sold_date'].notnull()]"
   ]
  },
  {
   "cell_type": "code",
   "execution_count": 12,
   "metadata": {},
   "outputs": [],
   "source": [
    "def getting_data(symbol):\n",
    "    print('Getting ' + symbol)\n",
    "\n",
    "    kucoin = requests.get(f'https://api.kucoin.com/api/v1/market/orderbook/level1?symbol={symbol}')\n",
    "    if kucoin.status_code == 200:  # if result is GOOD\n",
    "        data = json.loads(kucoin.text)['data']  # load the json response from API\n",
    "        df = pd.DataFrame([data])  # create dataframe out of json response\n",
    "        df['price'] = df['price'].map(lambda x: float(x))\n",
    "        df['symbol'] = f'{symbol.replace(\"-\", \"\")}'\n",
    "        df['dt_date'] = pd.to_datetime(df['time'].astype(int), unit='ms')\n",
    "        df.sort_values(by='dt_date', inplace = True)\n",
    "        df.drop(columns=['sequence', 'size', 'bestBid', 'bestBidSize', 'bestAsk', 'bestAskSize', 'time'], inplace=True)\n",
    "    else:\n",
    "        pass\n",
    "\n",
    "    return df"
   ]
  },
  {
   "cell_type": "code",
   "execution_count": 13,
   "metadata": {},
   "outputs": [
    {
     "name": "stdout",
     "output_type": "stream",
     "text": [
      "Getting ATOM-USDT\n",
      "Getting MAHA-USDT\n",
      "Getting VISION-USDT\n"
     ]
    }
   ],
   "source": [
    "testing = []\n",
    "for index, row in df_open.iterrows():\n",
    "    crypto = row['index']\n",
    "    price = row['price']\n",
    "    try:\n",
    "        data = getting_data(crypto)\n",
    "        if not data.empty:  # Check if the dataframe is not empty before appending\n",
    "            data['price_bought'] = price\n",
    "            data['profit_loss'] = (((data['price'] / data['price_bought']) - 1) * 100).round(2).astype(float)\n",
    "            testing.append(data)\n",
    "    except:\n",
    "        pass\n",
    "\n",
    "if testing:  # Check if the list is not empty before concatenating\n",
    "    df_concat = pd.concat(testing, ignore_index=True)\n",
    "else:\n",
    "    # Handle the case when no data is available\n",
    "    df_concat = pd.DataFrame()"
   ]
  },
  {
   "cell_type": "code",
   "execution_count": 14,
   "metadata": {},
   "outputs": [
    {
     "data": {
      "text/html": [
       "<div>\n",
       "<style scoped>\n",
       "    .dataframe tbody tr th:only-of-type {\n",
       "        vertical-align: middle;\n",
       "    }\n",
       "\n",
       "    .dataframe tbody tr th {\n",
       "        vertical-align: top;\n",
       "    }\n",
       "\n",
       "    .dataframe thead th {\n",
       "        text-align: right;\n",
       "    }\n",
       "</style>\n",
       "<table border=\"1\" class=\"dataframe\">\n",
       "  <thead>\n",
       "    <tr style=\"text-align: right;\">\n",
       "      <th></th>\n",
       "      <th>price</th>\n",
       "      <th>symbol</th>\n",
       "      <th>dt_date</th>\n",
       "      <th>price_bought</th>\n",
       "      <th>profit_loss</th>\n",
       "    </tr>\n",
       "  </thead>\n",
       "  <tbody>\n",
       "    <tr>\n",
       "      <th>0</th>\n",
       "      <td>9.766200</td>\n",
       "      <td>ATOMUSDT</td>\n",
       "      <td>2023-12-07 03:44:24.551</td>\n",
       "      <td>10.050000</td>\n",
       "      <td>-2.82</td>\n",
       "    </tr>\n",
       "    <tr>\n",
       "      <th>1</th>\n",
       "      <td>0.427400</td>\n",
       "      <td>MAHAUSDT</td>\n",
       "      <td>2023-12-07 03:44:11.634</td>\n",
       "      <td>0.424800</td>\n",
       "      <td>0.61</td>\n",
       "    </tr>\n",
       "    <tr>\n",
       "      <th>2</th>\n",
       "      <td>0.007345</td>\n",
       "      <td>VISIONUSDT</td>\n",
       "      <td>2023-12-07 03:43:02.003</td>\n",
       "      <td>0.008153</td>\n",
       "      <td>-9.92</td>\n",
       "    </tr>\n",
       "  </tbody>\n",
       "</table>\n",
       "</div>"
      ],
      "text/plain": [
       "      price      symbol                 dt_date  price_bought  profit_loss\n",
       "0  9.766200    ATOMUSDT 2023-12-07 03:44:24.551     10.050000        -2.82\n",
       "1  0.427400    MAHAUSDT 2023-12-07 03:44:11.634      0.424800         0.61\n",
       "2  0.007345  VISIONUSDT 2023-12-07 03:43:02.003      0.008153        -9.92"
      ]
     },
     "execution_count": 14,
     "metadata": {},
     "output_type": "execute_result"
    }
   ],
   "source": [
    "df_concat"
   ]
  }
 ],
 "metadata": {
  "kernelspec": {
   "display_name": "cfa_venv",
   "language": "python",
   "name": "python3"
  },
  "language_info": {
   "codemirror_mode": {
    "name": "ipython",
    "version": 3
   },
   "file_extension": ".py",
   "mimetype": "text/x-python",
   "name": "python",
   "nbconvert_exporter": "python",
   "pygments_lexer": "ipython3",
   "version": "3.11.0"
  }
 },
 "nbformat": 4,
 "nbformat_minor": 2
}
