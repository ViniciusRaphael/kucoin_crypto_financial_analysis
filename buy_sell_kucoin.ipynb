{
 "cells": [
  {
   "cell_type": "code",
   "execution_count": 9,
   "metadata": {},
   "outputs": [],
   "source": [
    "import pandas as pd\n",
    "import pandas_ta as ta\n",
    "pd.set_option('display.max_rows', 500)\n",
    "import requests,json\n",
    "import numpy as np"
   ]
  },
  {
   "cell_type": "code",
   "execution_count": 10,
   "metadata": {},
   "outputs": [],
   "source": [
    "# Create dict with symbols I bough\n",
    "# Get hour data from kucoin\n",
    "# Get latest price available"
   ]
  },
  {
   "cell_type": "code",
   "execution_count": 11,
   "metadata": {},
   "outputs": [],
   "source": [
    "kucoin_position = {\n",
    "    'VISION-USDT': {\n",
    "        'price': 0.0081531,\n",
    "        'buy_date' : '2023-12-04',\n",
    "        'quantity': 10306.7021,\n",
    "        },\n",
    "\n",
    "    'POLS-USDT': {\n",
    "        'price': 0.4419,\n",
    "        'buy_date' : '2023-12-03',\n",
    "        'quantity': 129.4073,\n",
    "        },\n",
    "\n",
    "    'SUPER-USDT': {\n",
    "        'price': 0.4553,\n",
    "        'buy_date' : '2023-12-03',\n",
    "        'quantity': 127.5088,\n",
    "        'sold_date' : '2023-12-04',\n",
    "        'sold_price': 0.65657,\n",
    "        }\n",
    "}"
   ]
  },
  {
   "cell_type": "markdown",
   "metadata": {},
   "source": [
    "## Sold Cases"
   ]
  },
  {
   "cell_type": "code",
   "execution_count": 17,
   "metadata": {},
   "outputs": [],
   "source": [
    "df_control = pd.DataFrame(kucoin_position).T.reset_index().sort_values(by=['buy_date'])\n",
    "df_control['profit'] = df_control['sold_price'] * df_control['quantity'] - df_control['price'] * df_control['quantity']"
   ]
  },
  {
   "cell_type": "markdown",
   "metadata": {},
   "source": [
    "## Open Cases"
   ]
  },
  {
   "cell_type": "code",
   "execution_count": 13,
   "metadata": {},
   "outputs": [],
   "source": [
    "df_open = df_control[~df_control['sold_date'].notnull()]"
   ]
  },
  {
   "cell_type": "code",
   "execution_count": 14,
   "metadata": {},
   "outputs": [],
   "source": [
    "def getting_data(symbol):\n",
    "    print('Getting ' + symbol)\n",
    "\n",
    "    kucoin = requests.get(f'https://api.kucoin.com/api/v1/market/orderbook/level1?symbol={symbol}')\n",
    "    if kucoin.status_code == 200:  # if result is GOOD\n",
    "        data = json.loads(kucoin.text)['data']  # load the json response from API\n",
    "        df = pd.DataFrame([data])  # create dataframe out of json response\n",
    "        df['price'] = df['price'].map(lambda x: float(x))\n",
    "        df['symbol'] = f'{symbol.replace(\"-\", \"\")}'\n",
    "        df['time_period_start'] = pd.to_datetime(df['time'].astype(int), unit='ms')\n",
    "        df.sort_values(by='time_period_start', inplace = True)\n",
    "        df.drop(columns=['sequence', 'size', 'bestBid', 'bestBidSize', 'bestAsk', 'bestAskSize', 'time'], inplace=True)\n",
    "    else:\n",
    "        pass\n",
    "\n",
    "    return df"
   ]
  },
  {
   "cell_type": "code",
   "execution_count": 15,
   "metadata": {},
   "outputs": [
    {
     "name": "stdout",
     "output_type": "stream",
     "text": [
      "Getting VISION-USDT\n",
      "Getting POLS-USDT\n"
     ]
    }
   ],
   "source": [
    "testing = []\n",
    "for index, row in df_open.iterrows():\n",
    "    crypto = row['index']\n",
    "    price = row['price']\n",
    "    try:\n",
    "        data = getting_data(crypto)\n",
    "        if not data.empty:  # Check if the dataframe is not empty before appending\n",
    "            data['price_bought'] = price\n",
    "            data['profit_loss'] = (((data['price'] / data['price_bought']) - 1) * 100).round(2).astype(float)\n",
    "            testing.append(data)\n",
    "    except:\n",
    "        pass\n",
    "\n",
    "if testing:  # Check if the list is not empty before concatenating\n",
    "    df_concat = pd.concat(testing, ignore_index=True)\n",
    "else:\n",
    "    # Handle the case when no data is available\n",
    "    df_concat = pd.DataFrame()"
   ]
  },
  {
   "cell_type": "code",
   "execution_count": 16,
   "metadata": {},
   "outputs": [
    {
     "data": {
      "text/html": [
       "<div>\n",
       "<style scoped>\n",
       "    .dataframe tbody tr th:only-of-type {\n",
       "        vertical-align: middle;\n",
       "    }\n",
       "\n",
       "    .dataframe tbody tr th {\n",
       "        vertical-align: top;\n",
       "    }\n",
       "\n",
       "    .dataframe thead th {\n",
       "        text-align: right;\n",
       "    }\n",
       "</style>\n",
       "<table border=\"1\" class=\"dataframe\">\n",
       "  <thead>\n",
       "    <tr style=\"text-align: right;\">\n",
       "      <th></th>\n",
       "      <th>price</th>\n",
       "      <th>symbol</th>\n",
       "      <th>time_period_start</th>\n",
       "      <th>price_bought</th>\n",
       "      <th>profit_loss</th>\n",
       "    </tr>\n",
       "  </thead>\n",
       "  <tbody>\n",
       "    <tr>\n",
       "      <th>0</th>\n",
       "      <td>0.008164</td>\n",
       "      <td>VISIONUSDT</td>\n",
       "      <td>2023-12-04 19:42:41.872</td>\n",
       "      <td>0.008153</td>\n",
       "      <td>0.13</td>\n",
       "    </tr>\n",
       "    <tr>\n",
       "      <th>1</th>\n",
       "      <td>0.471000</td>\n",
       "      <td>POLSUSDT</td>\n",
       "      <td>2023-12-04 19:41:34.766</td>\n",
       "      <td>0.441900</td>\n",
       "      <td>6.59</td>\n",
       "    </tr>\n",
       "  </tbody>\n",
       "</table>\n",
       "</div>"
      ],
      "text/plain": [
       "      price      symbol       time_period_start  price_bought  profit_loss\n",
       "0  0.008164  VISIONUSDT 2023-12-04 19:42:41.872      0.008153         0.13\n",
       "1  0.471000    POLSUSDT 2023-12-04 19:41:34.766      0.441900         6.59"
      ]
     },
     "execution_count": 16,
     "metadata": {},
     "output_type": "execute_result"
    }
   ],
   "source": [
    "df_concat"
   ]
  }
 ],
 "metadata": {
  "kernelspec": {
   "display_name": "cfa_venv",
   "language": "python",
   "name": "python3"
  },
  "language_info": {
   "codemirror_mode": {
    "name": "ipython",
    "version": 3
   },
   "file_extension": ".py",
   "mimetype": "text/x-python",
   "name": "python",
   "nbconvert_exporter": "python",
   "pygments_lexer": "ipython3",
   "version": "3.11.0"
  }
 },
 "nbformat": 4,
 "nbformat_minor": 2
}
