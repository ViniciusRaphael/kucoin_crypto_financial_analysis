{
 "cells": [
  {
   "cell_type": "markdown",
   "metadata": {},
   "source": [
    "## Libs"
   ]
  },
  {
   "cell_type": "code",
   "execution_count": 179,
   "metadata": {},
   "outputs": [],
   "source": [
    "from binance.client import Client\n",
    "from binance.enums import HistoricalKlinesType\n",
    "from datetime import datetime, timedelta\n",
    "import pandas as pd\n",
    "import pandas_ta as ta\n",
    "pd.set_option('display.max_rows', 500)\n",
    "import requests,json\n",
    "import plotly.graph_objs as go"
   ]
  },
  {
   "cell_type": "code",
   "execution_count": 180,
   "metadata": {},
   "outputs": [],
   "source": [
    "# Define column names for the DataFrame\n",
    "colnames = [\n",
    "    'time', 'Open', 'High', 'Low', 'Close', 'vl_volume', 'Close time',\n",
    "    'Quote asset vl_volume', 'Number of trades', 'Taker buy base asset vl_volume',\n",
    "    'Taker buy quote asset vl_volume', 'Ignore'\n",
    "]\n",
    "\n",
    "# Get all USDT pairs\n",
    "BASE_URL = 'https://api.kucoin.com'\n",
    "resp = requests.get(BASE_URL+'/api/v2/symbols')\n",
    "ticker_list = json.loads(resp.content)\n",
    "symbols = [ticker['symbol'] for ticker in ticker_list['data'] if str(ticker['symbol'][-4:]) == 'USDT']\n",
    "\n",
    "\n",
    "interval = '1d'  # Supports intervals like 1m, 1H, 1D, etc.\n",
    "start = (datetime.today() - timedelta(days=90)).strftime('%m/%d/%Y 00:00:00')   # Start date\n",
    "end = datetime.today().strftime('%m/%d/%Y 00:00:00') # End date\n"
   ]
  },
  {
   "cell_type": "code",
   "execution_count": 181,
   "metadata": {},
   "outputs": [],
   "source": [
    "dicionario_vl_adx = {\n",
    "    '0-25': '1. Absent or Weak Trend',\n",
    "    '25-50': '2. Strong Trend',\n",
    "    '50-75': '3. Very Strong Trend',\n",
    "    '75-100': '4. Extremely Strong Trend'\n",
    "}\n",
    "\n",
    "def check_adx(value):\n",
    "    for key, name in dicionario_vl_adx.items():\n",
    "        range_start, range_end = map(int, key.split('-'))\n",
    "        if range_start <= value <= range_end:\n",
    "            return name\n",
    "    return None\n",
    "\n",
    "# Function to count positive values and reset count on encountering negative value\n",
    "def count_positive_reset(df_column):\n",
    "    count = 0\n",
    "    counts = []\n",
    "\n",
    "    for value in df_column:\n",
    "        if value > 0:\n",
    "            count += 1\n",
    "        else:\n",
    "            count = 0  # Reset count if a negative value is encountered\n",
    "        counts.append(count)\n",
    "\n",
    "    return counts"
   ]
  },
  {
   "cell_type": "code",
   "execution_count": 182,
   "metadata": {},
   "outputs": [],
   "source": [
    "def getting_data(symbol):\n",
    "    kucoin = requests.get(f'https://api.kucoin.com/api/v1/market/candles?type=1day&symbol={symbol}')\n",
    "    if kucoin.status_code == 200:  # if result is GOOD\n",
    "        data = json.loads(kucoin.text)  # load the json response from API\n",
    "        df = pd.DataFrame(data['data'], columns=['unix', 'price_open', 'price_close', 'price_high', 'price_low', 'volume', 'turnover'])  # create dataframe out of json response\n",
    "        df['nm_symbol'] = f'{symbol.replace(\"-\", \"\")}'\n",
    "        df['dt_date'] = pd.to_datetime(df['unix'].astype(int), unit='s')\n",
    "        df.sort_values(by='dt_date', inplace = True) \n",
    "        \n",
    "    # Add a human readable date\n",
    "    else:\n",
    "        print('Error on connection')\n",
    "        pass\n",
    "\n",
    "    df[['price_open', 'price_close', 'price_high', 'price_low']] = df[['price_open', 'price_close', 'price_high', 'price_low']].map(lambda x: float(x))\n",
    "\n",
    "    # Calculate ADX, DI+ and DI- manually\n",
    "    df[['vl_adx', 'vl_dmp', 'vl_dmn']] = ta.adx(df['price_high'], df['price_low'], df['price_close'], length = 14)\n",
    "    df['vl_adx_trend'] = df['vl_adx'].apply(check_adx)\n",
    "\n",
    "\n",
    "\n",
    "    # Calculate ichimoku cloud  \n",
    "    df[['vl_leading_span_a', 'vl_leading_span_b', 'vl_conversion_line', 'vl_base_line', 'vl_lagging_span']] = ta.ichimoku(df['price_high'], df['price_low'], df['price_close'])[0]\n",
    "    df['vl_price_over_conv_line'] = df['price_close'] - df['vl_conversion_line']\n",
    "    df['qt_days_ichimoku_positive'] = count_positive_reset(df['vl_price_over_conv_line'])\n",
    "\n",
    "    # MACD\n",
    "    df[['vl_macd', 'vl_macd_hist', 'vl_macd_signal']] = ta.macd(df['price_close']).map(lambda x: float(x))\n",
    "    df['vl_macd_delta'] = df['vl_macd'] - df['vl_macd_signal']\n",
    "    df['qt_days_macd_delta_positive'] = count_positive_reset(df['vl_macd_delta'])\n",
    "\n",
    "    # # Supertrend\n",
    "    df[['vl_supertrend_trend', 'vl_supertrend_direction', 'vl_supertrend_long', 'vl_supertrend_short']] = ta.supertrend(df['price_high'], df['price_low'], df['price_close'])\n",
    "    df['qt_days_supertrend_positive'] = count_positive_reset(df['vl_supertrend_direction'])\n",
    "\n",
    "    df.rename(columns={\n",
    "        'price_open':'vl_price_open', \n",
    "        'price_close':'vl_price_close', \n",
    "        'price_high':'vl_price_high', \n",
    "        'price_low':'vl_price_low', \n",
    "        'volume':'vl_volume'\n",
    "    }, inplace=True)\n",
    "\n",
    "    return df\n"
   ]
  },
  {
   "cell_type": "code",
   "execution_count": 183,
   "metadata": {},
   "outputs": [
    {
     "name": "stdout",
     "output_type": "stream",
     "text": [
      "Item 1/801: AVA-USDT\n",
      "Item 2/801: MTV-USDT\n",
      "Item 3/801: KMD-USDT\n",
      "Item 4/801: RFOX-USDT\n",
      "Item 5/801: TEL-USDT\n",
      "Item 6/801: TT-USDT\n",
      "Item 7/801: AERGO-USDT\n",
      "Item 8/801: XMR-USDT\n",
      "Item 9/801: ATOM-USDT\n",
      "Item 10/801: FTM-USDT\n",
      "Item 11/801: VSYS-USDT\n",
      "Item 12/801: CHR-USDT\n",
      "Item 13/801: COTI-USDT\n",
      "Item 14/801: BNB-USDT\n",
      "Item 15/801: ALGO-USDT\n",
      "Item 16/801: XEM-USDT\n",
      "Item 17/801: XTZ-USDT\n",
      "Item 18/801: ZEC-USDT\n",
      "Item 19/801: ADA-USDT\n",
      "Item 20/801: BOLT-USDT\n",
      "Item 21/801: ARPA-USDT\n",
      "Item 22/801: CHZ-USDT\n",
      "Item 23/801: NOIA-USDT\n",
      "Item 24/801: WIN-USDT\n",
      "Item 25/801: BTT-USDT\n",
      "Item 26/801: EOSC-USDT\n",
      "Item 27/801: ONE-USDT\n",
      "Item 28/801: TOKO-USDT\n",
      "Item 29/801: LUNA-USDT\n",
      "Item 30/801: SXP-USDT\n",
      "Item 31/801: AKRO-USDT\n",
      "Item 32/801: MAP-USDT\n",
      "Item 33/801: AMPL-USDT\n",
      "Item 34/801: DAG-USDT\n",
      "Item 35/801: KPOL-USDT\n",
      "Item 36/801: ARX-USDT\n",
      "Item 37/801: NWC-USDT\n",
      "Item 38/801: BEPRO-USDT\n",
      "Item 39/801: VRA-USDT\n",
      "Item 40/801: KSM-USDT\n",
      "Item 41/801: DASH-USDT\n",
      "Item 42/801: SUTER-USDT\n",
      "Item 43/801: SENSO-USDT\n",
      "Item 44/801: XDB-USDT\n",
      "Item 45/801: SYLO-USDT\n",
      "Item 46/801: DGB-USDT\n",
      "Item 47/801: STX-USDT\n",
      "Item 48/801: COMP-USDT\n",
      "Item 49/801: CRO-USDT\n",
      "Item 50/801: KAI-USDT\n"
     ]
    }
   ],
   "source": [
    "testing = []\n",
    "\n",
    "total_items = len(symbols)\n",
    "for index, crypto in enumerate(symbols[:50], start=1):\n",
    "    try:\n",
    "        data = getting_data(crypto)\n",
    "        if not data.empty:  # Check if the dataframe is not empty before appending\n",
    "            testing.append(data)\n",
    "            print(f\"Item {index}/{total_items}: {crypto}\")\n",
    "    except:\n",
    "        pass\n",
    "\n",
    "if testing:  # Check if the list is not empty before concatenating\n",
    "    df_concat = pd.concat(testing, ignore_index=True)\n",
    "else:\n",
    "    # Handle the case when no data is available\n",
    "    df_concat = pd.DataFrame()"
   ]
  },
  {
   "cell_type": "code",
   "execution_count": 192,
   "metadata": {},
   "outputs": [],
   "source": [
    "today = datetime.today().date()\n",
    "df_indicators = df_concat.loc[\n",
    "                (df_concat['vl_adx'] > 25) & \n",
    "                (df_concat['dt_date'].dt.date == today) &\n",
    "\n",
    "                # Ichimoku com menos preço maior do que linha de conversão e linha de base\n",
    "                (df_concat['vl_price_low'] > df_concat['vl_conversion_line']) &\n",
    "                (df_concat['vl_price_low'] > df_concat['vl_base_line']) &\n",
    "\n",
    "                # vl_macd histograma maior do que 0 e signal maior do que vl_macd\n",
    "                (df_concat['vl_macd_hist'] > 0) &\n",
    "                (df_concat['vl_macd_delta'] > 0.01) &\n",
    "                (df_concat['qt_days_supertrend_positive'] > 1)\n",
    "                ]"
   ]
  },
  {
   "cell_type": "markdown",
   "metadata": {},
   "source": [
    "## Possibilities of Profit"
   ]
  },
  {
   "cell_type": "code",
   "execution_count": 195,
   "metadata": {},
   "outputs": [
    {
     "data": {
      "text/html": [
       "<div>\n",
       "<style scoped>\n",
       "    .dataframe tbody tr th:only-of-type {\n",
       "        vertical-align: middle;\n",
       "    }\n",
       "\n",
       "    .dataframe tbody tr th {\n",
       "        vertical-align: top;\n",
       "    }\n",
       "\n",
       "    .dataframe thead th {\n",
       "        text-align: right;\n",
       "    }\n",
       "</style>\n",
       "<table border=\"1\" class=\"dataframe\">\n",
       "  <thead>\n",
       "    <tr style=\"text-align: right;\">\n",
       "      <th></th>\n",
       "      <th>index</th>\n",
       "      <th>nm_symbol</th>\n",
       "      <th>dt_date</th>\n",
       "      <th>vl_price_open</th>\n",
       "      <th>vl_volume</th>\n",
       "      <th>vl_adx</th>\n",
       "      <th>vl_adx_trend</th>\n",
       "      <th>qt_days_ichimoku_positive</th>\n",
       "      <th>vl_macd_delta</th>\n",
       "      <th>qt_days_macd_delta_positive</th>\n",
       "      <th>qt_days_supertrend_positive</th>\n",
       "    </tr>\n",
       "  </thead>\n",
       "  <tbody>\n",
       "    <tr>\n",
       "      <th>0</th>\n",
       "      <td>3999</td>\n",
       "      <td>KSMUSDT</td>\n",
       "      <td>2023-12-07</td>\n",
       "      <td>26.67700</td>\n",
       "      <td>332.7382</td>\n",
       "      <td>30.691469</td>\n",
       "      <td>2. Strong Trend</td>\n",
       "      <td>8</td>\n",
       "      <td>0.075203</td>\n",
       "      <td>4</td>\n",
       "      <td>46</td>\n",
       "    </tr>\n",
       "    <tr>\n",
       "      <th>1</th>\n",
       "      <td>4699</td>\n",
       "      <td>STXUSDT</td>\n",
       "      <td>2023-12-07</td>\n",
       "      <td>1.03350</td>\n",
       "      <td>1081928.2891</td>\n",
       "      <td>34.019394</td>\n",
       "      <td>2. Strong Trend</td>\n",
       "      <td>15</td>\n",
       "      <td>0.044372</td>\n",
       "      <td>12</td>\n",
       "      <td>100</td>\n",
       "    </tr>\n",
       "    <tr>\n",
       "      <th>2</th>\n",
       "      <td>3299</td>\n",
       "      <td>AMPLUSDT</td>\n",
       "      <td>2023-12-07</td>\n",
       "      <td>1.54468</td>\n",
       "      <td>46001.43</td>\n",
       "      <td>33.363201</td>\n",
       "      <td>2. Strong Trend</td>\n",
       "      <td>5</td>\n",
       "      <td>0.039296</td>\n",
       "      <td>4</td>\n",
       "      <td>4</td>\n",
       "    </tr>\n",
       "    <tr>\n",
       "      <th>3</th>\n",
       "      <td>2899</td>\n",
       "      <td>LUNAUSDT</td>\n",
       "      <td>2023-12-07</td>\n",
       "      <td>1.03720</td>\n",
       "      <td>837311.47231002</td>\n",
       "      <td>49.030135</td>\n",
       "      <td>2. Strong Trend</td>\n",
       "      <td>7</td>\n",
       "      <td>0.032314</td>\n",
       "      <td>11</td>\n",
       "      <td>41</td>\n",
       "    </tr>\n",
       "  </tbody>\n",
       "</table>\n",
       "</div>"
      ],
      "text/plain": [
       "   index nm_symbol    dt_date  vl_price_open        vl_volume     vl_adx  \\\n",
       "0   3999   KSMUSDT 2023-12-07       26.67700         332.7382  30.691469   \n",
       "1   4699   STXUSDT 2023-12-07        1.03350     1081928.2891  34.019394   \n",
       "2   3299  AMPLUSDT 2023-12-07        1.54468         46001.43  33.363201   \n",
       "3   2899  LUNAUSDT 2023-12-07        1.03720  837311.47231002  49.030135   \n",
       "\n",
       "      vl_adx_trend  qt_days_ichimoku_positive  vl_macd_delta  \\\n",
       "0  2. Strong Trend                          8       0.075203   \n",
       "1  2. Strong Trend                         15       0.044372   \n",
       "2  2. Strong Trend                          5       0.039296   \n",
       "3  2. Strong Trend                          7       0.032314   \n",
       "\n",
       "   qt_days_macd_delta_positive  qt_days_supertrend_positive  \n",
       "0                            4                           46  \n",
       "1                           12                          100  \n",
       "2                            4                            4  \n",
       "3                           11                           41  "
      ]
     },
     "execution_count": 195,
     "metadata": {},
     "output_type": "execute_result"
    }
   ],
   "source": [
    "df_indicators[\n",
    "    [\n",
    "        'nm_symbol', \n",
    "        'dt_date', \n",
    "        'vl_price_open', \n",
    "        'vl_volume', \n",
    "        'vl_adx', \n",
    "        'vl_adx_trend',\n",
    "        'qt_days_ichimoku_positive', \n",
    "        'vl_macd_delta',\n",
    "        'qt_days_macd_delta_positive', \n",
    "        'qt_days_supertrend_positive',\n",
    "        \n",
    "        ]\n",
    "        ].sort_values(by=['vl_adx_trend', 'vl_macd_delta'], ascending=False).reset_index()"
   ]
  },
  {
   "cell_type": "markdown",
   "metadata": {},
   "source": [
    "## Follow up of orders"
   ]
  },
  {
   "cell_type": "code",
   "execution_count": 186,
   "metadata": {},
   "outputs": [],
   "source": [
    "order_book = pd.read_json('order_book.json').T.reset_index()\n",
    "order_book['index'] = order_book['index'].replace('-', '', regex=True)\n",
    "open_orders = order_book['index'].loc[~order_book['sold_date'].notnull()]"
   ]
  },
  {
   "cell_type": "code",
   "execution_count": 187,
   "metadata": {},
   "outputs": [],
   "source": [
    "df_fup = df_concat.loc[\n",
    "                (df_concat['nm_symbol'].isin(open_orders) ) & \n",
    "                (df_concat['dt_date'].dt.date == today)\n",
    "                ]"
   ]
  },
  {
   "cell_type": "code",
   "execution_count": 188,
   "metadata": {},
   "outputs": [
    {
     "data": {
      "text/html": [
       "<div>\n",
       "<style scoped>\n",
       "    .dataframe tbody tr th:only-of-type {\n",
       "        vertical-align: middle;\n",
       "    }\n",
       "\n",
       "    .dataframe tbody tr th {\n",
       "        vertical-align: top;\n",
       "    }\n",
       "\n",
       "    .dataframe thead th {\n",
       "        text-align: right;\n",
       "    }\n",
       "</style>\n",
       "<table border=\"1\" class=\"dataframe\">\n",
       "  <thead>\n",
       "    <tr style=\"text-align: right;\">\n",
       "      <th></th>\n",
       "      <th>index</th>\n",
       "      <th>nm_symbol</th>\n",
       "      <th>dt_date</th>\n",
       "      <th>vl_price_open</th>\n",
       "      <th>vl_volume</th>\n",
       "      <th>vl_adx</th>\n",
       "      <th>vl_adx_trend</th>\n",
       "      <th>qt_days_ichimoku_positive</th>\n",
       "      <th>vl_macd_delta</th>\n",
       "      <th>qt_days_macd_delta_positive</th>\n",
       "      <th>vl_supertrend_direction</th>\n",
       "    </tr>\n",
       "  </thead>\n",
       "  <tbody>\n",
       "    <tr>\n",
       "      <th>0</th>\n",
       "      <td>899</td>\n",
       "      <td>ATOMUSDT</td>\n",
       "      <td>2023-12-07</td>\n",
       "      <td>9.7446</td>\n",
       "      <td>36889.7119</td>\n",
       "      <td>30.384316</td>\n",
       "      <td>2. Strong Trend</td>\n",
       "      <td>13</td>\n",
       "      <td>0.001479</td>\n",
       "      <td>3</td>\n",
       "      <td>1</td>\n",
       "    </tr>\n",
       "  </tbody>\n",
       "</table>\n",
       "</div>"
      ],
      "text/plain": [
       "   index nm_symbol    dt_date  vl_price_open   vl_volume     vl_adx  \\\n",
       "0    899  ATOMUSDT 2023-12-07         9.7446  36889.7119  30.384316   \n",
       "\n",
       "      vl_adx_trend  qt_days_ichimoku_positive  vl_macd_delta  \\\n",
       "0  2. Strong Trend                         13       0.001479   \n",
       "\n",
       "   qt_days_macd_delta_positive  vl_supertrend_direction  \n",
       "0                            3                        1  "
      ]
     },
     "execution_count": 188,
     "metadata": {},
     "output_type": "execute_result"
    }
   ],
   "source": [
    "df_fup[['nm_symbol', 'dt_date', 'vl_price_open', 'vl_volume', 'vl_adx', 'vl_adx_trend','qt_days_ichimoku_positive', 'vl_macd_delta','qt_days_macd_delta_positive', 'vl_supertrend_direction']].sort_values(by=['vl_adx'], ascending=False).reset_index()"
   ]
  },
  {
   "cell_type": "markdown",
   "metadata": {},
   "source": [
    "## Charts"
   ]
  },
  {
   "cell_type": "code",
   "execution_count": 189,
   "metadata": {},
   "outputs": [],
   "source": [
    "def vl_adx_chart(symbol): \n",
    "    df = df_concat.loc[df_concat['nm_symbol'] == f'{symbol}']\n",
    "    \n",
    "    # Create the vl_adx trace\n",
    "    vl_adx_line = go.Scatter(\n",
    "        x=df['dt_date'],\n",
    "        y=df['vl_adx'],\n",
    "        mode='lines',\n",
    "        name='vl_adx',\n",
    "        line=dict(color='black')  # Color for vl_adx line\n",
    "    )\n",
    "\n",
    "    # Create the DI+ trace\n",
    "    plus_di_line = go.Scatter(\n",
    "        x=df['dt_date'],\n",
    "        y=df['vl_dmp'],\n",
    "        mode='lines',\n",
    "        name='DI+',\n",
    "        line=dict(color='green')  # Color for DI+\n",
    "    )\n",
    "\n",
    "    # Create the DI- trace\n",
    "    minus_di_line = go.Scatter(\n",
    "        x=df['dt_date'],\n",
    "        y=df['vl_dmn'],\n",
    "        mode='lines',\n",
    "        name='DI-',\n",
    "        line=dict(color='red')  # Color for DI-\n",
    "    )\n",
    "    # Create a fixed line for value 20 in light grey\n",
    "    fixed_line = go.Scatter(\n",
    "        x=df['dt_date'],\n",
    "        y=[20] * len(df),  # Creating a list of 20s to match the length of the DataFrame\n",
    "        mode='lines',\n",
    "        name='Fixed Line (20)',\n",
    "        line=dict(color='lightgrey', dash='dash')  # Color and style for the fixed line\n",
    "    )\n",
    "\n",
    "    # Create the figure for vl_adx chart\n",
    "    fig = go.Figure(data=[vl_adx_line, plus_di_line, minus_di_line, fixed_line])\n",
    "\n",
    "    # Update layout and add title\n",
    "    fig.update_layout(\n",
    "        title='vl_adx, DI+ and DI- Line Chart with Fixed Line at 20 using Plotly',\n",
    "        xaxis_title='Date',\n",
    "        yaxis_title='Values'\n",
    "    )\n",
    "\n",
    "    # Show the plot\n",
    "    fig.show()"
   ]
  },
  {
   "cell_type": "code",
   "execution_count": 190,
   "metadata": {},
   "outputs": [],
   "source": [
    "def ichimoku_chart(symbol): \n",
    "    df = df_concat.loc[df_concat['nm_symbol'] == f'{symbol}']\n",
    "    # Create Ichimoku Cloud chart\n",
    "    fig2 = go.Figure()\n",
    "\n",
    "    # Add candlestick chart\n",
    "    fig2.add_trace(go.Candlestick(x=df['dt_date'],\n",
    "                                 open=df['vl_price_open'],\n",
    "                                 high=df['vl_price_high'],\n",
    "                                 low=df['vl_price_low'],\n",
    "                                 close=df['vl_price_close'],\n",
    "                                 name='Candlestick'))\n",
    "\n",
    "    # Add Ichimoku Cloud lines\n",
    "    fig2.add_trace(go.Scatter(x=df['dt_date'], y=df['conversion_line'], mode='lines', name='Conversion Line', line=dict(color='blue')))\n",
    "    fig2.add_trace(go.Scatter(x=df['dt_date'], y=df['base_line'], mode='lines', name='Base Line', line=dict(color='red')))\n",
    "    fig2.add_trace(go.Scatter(x=df['dt_date'], y=df['vl_leading_span_a'], mode='lines', name='Leading Span A'))\n",
    "    fig2.add_trace(go.Scatter(x=df['dt_date'], y=df['leading_span_b'], mode='lines', name='Leading Span B'))\n",
    "\n",
    "    # Update layout\n",
    "    fig2.update_layout(title='Price Candlestick with Ichimoku Cloud Indicators',\n",
    "                      xaxis_title='Date',\n",
    "                      yaxis_title='Price',\n",
    "                      showlegend=True)\n",
    "\n",
    "    # Display fig2ure\n",
    "    fig2.show()"
   ]
  },
  {
   "cell_type": "code",
   "execution_count": 191,
   "metadata": {},
   "outputs": [
    {
     "data": {
      "application/vnd.plotly.v1+json": {
       "config": {
        "plotlyServerURL": "https://plot.ly"
       },
       "data": [
        {
         "line": {
          "color": "black"
         },
         "mode": "lines",
         "name": "vl_adx",
         "type": "scatter",
         "x": [
          "2023-08-30T00:00:00",
          "2023-08-31T00:00:00",
          "2023-09-01T00:00:00",
          "2023-09-02T00:00:00",
          "2023-09-03T00:00:00",
          "2023-09-04T00:00:00",
          "2023-09-05T00:00:00",
          "2023-09-06T00:00:00",
          "2023-09-07T00:00:00",
          "2023-09-08T00:00:00",
          "2023-09-09T00:00:00",
          "2023-09-10T00:00:00",
          "2023-09-11T00:00:00",
          "2023-09-12T00:00:00",
          "2023-09-13T00:00:00",
          "2023-09-14T00:00:00",
          "2023-09-15T00:00:00",
          "2023-09-16T00:00:00",
          "2023-09-17T00:00:00",
          "2023-09-18T00:00:00",
          "2023-09-19T00:00:00",
          "2023-09-20T00:00:00",
          "2023-09-21T00:00:00",
          "2023-09-22T00:00:00",
          "2023-09-23T00:00:00",
          "2023-09-24T00:00:00",
          "2023-09-25T00:00:00",
          "2023-09-26T00:00:00",
          "2023-09-27T00:00:00",
          "2023-09-28T00:00:00",
          "2023-09-29T00:00:00",
          "2023-09-30T00:00:00",
          "2023-10-01T00:00:00",
          "2023-10-02T00:00:00",
          "2023-10-03T00:00:00",
          "2023-10-04T00:00:00",
          "2023-10-05T00:00:00",
          "2023-10-06T00:00:00",
          "2023-10-07T00:00:00",
          "2023-10-08T00:00:00",
          "2023-10-09T00:00:00",
          "2023-10-10T00:00:00",
          "2023-10-11T00:00:00",
          "2023-10-12T00:00:00",
          "2023-10-13T00:00:00",
          "2023-10-14T00:00:00",
          "2023-10-15T00:00:00",
          "2023-10-16T00:00:00",
          "2023-10-17T00:00:00",
          "2023-10-18T00:00:00",
          "2023-10-19T00:00:00",
          "2023-10-20T00:00:00",
          "2023-10-21T00:00:00",
          "2023-10-22T00:00:00",
          "2023-10-23T00:00:00",
          "2023-10-24T00:00:00",
          "2023-10-25T00:00:00",
          "2023-10-26T00:00:00",
          "2023-10-27T00:00:00",
          "2023-10-28T00:00:00",
          "2023-10-29T00:00:00",
          "2023-10-30T00:00:00",
          "2023-10-31T00:00:00",
          "2023-11-01T00:00:00",
          "2023-11-02T00:00:00",
          "2023-11-03T00:00:00",
          "2023-11-04T00:00:00",
          "2023-11-05T00:00:00",
          "2023-11-06T00:00:00",
          "2023-11-07T00:00:00",
          "2023-11-08T00:00:00",
          "2023-11-09T00:00:00",
          "2023-11-10T00:00:00",
          "2023-11-11T00:00:00",
          "2023-11-12T00:00:00",
          "2023-11-13T00:00:00",
          "2023-11-14T00:00:00",
          "2023-11-15T00:00:00",
          "2023-11-16T00:00:00",
          "2023-11-17T00:00:00",
          "2023-11-18T00:00:00",
          "2023-11-19T00:00:00",
          "2023-11-20T00:00:00",
          "2023-11-21T00:00:00",
          "2023-11-22T00:00:00",
          "2023-11-23T00:00:00",
          "2023-11-24T00:00:00",
          "2023-11-25T00:00:00",
          "2023-11-26T00:00:00",
          "2023-11-27T00:00:00",
          "2023-11-28T00:00:00",
          "2023-11-29T00:00:00",
          "2023-11-30T00:00:00",
          "2023-12-01T00:00:00",
          "2023-12-02T00:00:00",
          "2023-12-03T00:00:00",
          "2023-12-04T00:00:00",
          "2023-12-05T00:00:00",
          "2023-12-06T00:00:00",
          "2023-12-07T00:00:00"
         ],
         "y": [
          null,
          null,
          null,
          null,
          null,
          null,
          null,
          null,
          null,
          null,
          null,
          null,
          null,
          null,
          null,
          null,
          null,
          null,
          null,
          null,
          null,
          null,
          null,
          null,
          null,
          null,
          null,
          14.694071195851793,
          13.140767279457659,
          12.383541086393501,
          11.724894675444368,
          12.142647398847306,
          14.713420371489947,
          16.138973941430745,
          16.852077170733367,
          16.052332864088253,
          14.723050073978479,
          13.528785327875392,
          12.649566005367895,
          11.684488589983692,
          12.359017354417096,
          12.057556861661887,
          11.161118148646732,
          10.723372038291513,
          10.32415123164433,
          9.868163884851633,
          9.655549031859941,
          9.10628211168235,
          9.205920938842265,
          9.73946854701488,
          10.77554163904363,
          10.555613884734232,
          10.228760171456255,
          10.213098968810774,
          11.328021680260717,
          13.096664127592277,
          14.72766886730659,
          16.650859730704354,
          18.388639549167994,
          20.115255967706748,
          22.146963570203383,
          25.296126909082684,
          28.328219905265478,
          30.53689650563311,
          32.66889308198485,
          34.581594678970454,
          36.888280016777934,
          39.35069484502663,
          41.826723438240954,
          43.3293603371174,
          44.73979974333936,
          44.103543593534916,
          44.30759594972741,
          44.211863088988586,
          44.495036869105135,
          45.717777861682656,
          45.128822262483006,
          45.03725771394109,
          45.36636569948079,
          44.637204108645996,
          43.53001512979535,
          42.50298205015326,
          41.754408737424974,
          39.39776208515624,
          37.198531498819506,
          35.4424724401065,
          33.833686351629176,
          33.33136628012508,
          33.34161789656689,
          32.58457266211475,
          31.477169433396153,
          30.449375222034302,
          29.611020818053813,
          28.99268432820314,
          28.83264049684545,
          28.523905046706634,
          28.64972840836611,
          28.863679824446894,
          29.65226136199733,
          30.38431566160576
         ]
        },
        {
         "line": {
          "color": "green"
         },
         "mode": "lines",
         "name": "DI+",
         "type": "scatter",
         "x": [
          "2023-08-30T00:00:00",
          "2023-08-31T00:00:00",
          "2023-09-01T00:00:00",
          "2023-09-02T00:00:00",
          "2023-09-03T00:00:00",
          "2023-09-04T00:00:00",
          "2023-09-05T00:00:00",
          "2023-09-06T00:00:00",
          "2023-09-07T00:00:00",
          "2023-09-08T00:00:00",
          "2023-09-09T00:00:00",
          "2023-09-10T00:00:00",
          "2023-09-11T00:00:00",
          "2023-09-12T00:00:00",
          "2023-09-13T00:00:00",
          "2023-09-14T00:00:00",
          "2023-09-15T00:00:00",
          "2023-09-16T00:00:00",
          "2023-09-17T00:00:00",
          "2023-09-18T00:00:00",
          "2023-09-19T00:00:00",
          "2023-09-20T00:00:00",
          "2023-09-21T00:00:00",
          "2023-09-22T00:00:00",
          "2023-09-23T00:00:00",
          "2023-09-24T00:00:00",
          "2023-09-25T00:00:00",
          "2023-09-26T00:00:00",
          "2023-09-27T00:00:00",
          "2023-09-28T00:00:00",
          "2023-09-29T00:00:00",
          "2023-09-30T00:00:00",
          "2023-10-01T00:00:00",
          "2023-10-02T00:00:00",
          "2023-10-03T00:00:00",
          "2023-10-04T00:00:00",
          "2023-10-05T00:00:00",
          "2023-10-06T00:00:00",
          "2023-10-07T00:00:00",
          "2023-10-08T00:00:00",
          "2023-10-09T00:00:00",
          "2023-10-10T00:00:00",
          "2023-10-11T00:00:00",
          "2023-10-12T00:00:00",
          "2023-10-13T00:00:00",
          "2023-10-14T00:00:00",
          "2023-10-15T00:00:00",
          "2023-10-16T00:00:00",
          "2023-10-17T00:00:00",
          "2023-10-18T00:00:00",
          "2023-10-19T00:00:00",
          "2023-10-20T00:00:00",
          "2023-10-21T00:00:00",
          "2023-10-22T00:00:00",
          "2023-10-23T00:00:00",
          "2023-10-24T00:00:00",
          "2023-10-25T00:00:00",
          "2023-10-26T00:00:00",
          "2023-10-27T00:00:00",
          "2023-10-28T00:00:00",
          "2023-10-29T00:00:00",
          "2023-10-30T00:00:00",
          "2023-10-31T00:00:00",
          "2023-11-01T00:00:00",
          "2023-11-02T00:00:00",
          "2023-11-03T00:00:00",
          "2023-11-04T00:00:00",
          "2023-11-05T00:00:00",
          "2023-11-06T00:00:00",
          "2023-11-07T00:00:00",
          "2023-11-08T00:00:00",
          "2023-11-09T00:00:00",
          "2023-11-10T00:00:00",
          "2023-11-11T00:00:00",
          "2023-11-12T00:00:00",
          "2023-11-13T00:00:00",
          "2023-11-14T00:00:00",
          "2023-11-15T00:00:00",
          "2023-11-16T00:00:00",
          "2023-11-17T00:00:00",
          "2023-11-18T00:00:00",
          "2023-11-19T00:00:00",
          "2023-11-20T00:00:00",
          "2023-11-21T00:00:00",
          "2023-11-22T00:00:00",
          "2023-11-23T00:00:00",
          "2023-11-24T00:00:00",
          "2023-11-25T00:00:00",
          "2023-11-26T00:00:00",
          "2023-11-27T00:00:00",
          "2023-11-28T00:00:00",
          "2023-11-29T00:00:00",
          "2023-11-30T00:00:00",
          "2023-12-01T00:00:00",
          "2023-12-02T00:00:00",
          "2023-12-03T00:00:00",
          "2023-12-04T00:00:00",
          "2023-12-05T00:00:00",
          "2023-12-06T00:00:00",
          "2023-12-07T00:00:00"
         ],
         "y": [
          null,
          null,
          null,
          null,
          null,
          null,
          null,
          null,
          null,
          null,
          null,
          null,
          null,
          null,
          5.555297828042764,
          17.801786494182586,
          21.294638594211307,
          23.654426369397303,
          21.29569583740936,
          26.97651493296038,
          26.781920024239227,
          24.134825331351497,
          21.684298290422998,
          20.44343458651144,
          19.56234320395492,
          18.480850358785432,
          17.491895621145165,
          16.266187040975254,
          16.035916457785117,
          16.636021117266377,
          16.01460926308121,
          18.392797203475972,
          26.24964196973466,
          22.735339289639683,
          21.21691576561541,
          19.99357318979168,
          18.736391764994046,
          17.88294530563504,
          18.03842478879462,
          17.25471534569566,
          15.332015230459197,
          22.105901768371655,
          20.567895182574638,
          18.730926251186684,
          18.049530959694934,
          17.968651198817646,
          17.15522009435353,
          19.40148642685261,
          18.032064033677507,
          17.0329956518813,
          16.38444154003804,
          20.920213453636094,
          25.055951539698192,
          25.03603144363448,
          30.060903042416374,
          32.08710916075317,
          29.21857142296951,
          29.62090710635755,
          27.66848593493222,
          27.380332922776525,
          29.114569534907627,
          39.13655604234127,
          36.548866311535065,
          33.08536606203592,
          30.735241863184548,
          28.897157555178904,
          33.30741525502949,
          35.96920963964322,
          36.9862351905401,
          33.27847366151378,
          31.31799919845252,
          25.9623409883866,
          30.74251901603725,
          28.00802266891284,
          28.158023046034458,
          34.02231055165994,
          30.766699450242008,
          32.24233403959085,
          34.05010678908904,
          29.68508966768086,
          27.88793304740998,
          26.515025358479733,
          26.125146389797475,
          23.584976156382623,
          21.695049107666268,
          22.414064619809526,
          21.57672521325951,
          26.107394254543237,
          27.724883938854273,
          24.80919665871228,
          23.288124399434107,
          22.45597728029796,
          22.501705478260725,
          22.73033931488666,
          24.713894910086886,
          23.726741789691864,
          24.658719569023187,
          23.928494734345186,
          26.72771471840934,
          26.14634120799377
         ]
        },
        {
         "line": {
          "color": "red"
         },
         "mode": "lines",
         "name": "DI-",
         "type": "scatter",
         "x": [
          "2023-08-30T00:00:00",
          "2023-08-31T00:00:00",
          "2023-09-01T00:00:00",
          "2023-09-02T00:00:00",
          "2023-09-03T00:00:00",
          "2023-09-04T00:00:00",
          "2023-09-05T00:00:00",
          "2023-09-06T00:00:00",
          "2023-09-07T00:00:00",
          "2023-09-08T00:00:00",
          "2023-09-09T00:00:00",
          "2023-09-10T00:00:00",
          "2023-09-11T00:00:00",
          "2023-09-12T00:00:00",
          "2023-09-13T00:00:00",
          "2023-09-14T00:00:00",
          "2023-09-15T00:00:00",
          "2023-09-16T00:00:00",
          "2023-09-17T00:00:00",
          "2023-09-18T00:00:00",
          "2023-09-19T00:00:00",
          "2023-09-20T00:00:00",
          "2023-09-21T00:00:00",
          "2023-09-22T00:00:00",
          "2023-09-23T00:00:00",
          "2023-09-24T00:00:00",
          "2023-09-25T00:00:00",
          "2023-09-26T00:00:00",
          "2023-09-27T00:00:00",
          "2023-09-28T00:00:00",
          "2023-09-29T00:00:00",
          "2023-09-30T00:00:00",
          "2023-10-01T00:00:00",
          "2023-10-02T00:00:00",
          "2023-10-03T00:00:00",
          "2023-10-04T00:00:00",
          "2023-10-05T00:00:00",
          "2023-10-06T00:00:00",
          "2023-10-07T00:00:00",
          "2023-10-08T00:00:00",
          "2023-10-09T00:00:00",
          "2023-10-10T00:00:00",
          "2023-10-11T00:00:00",
          "2023-10-12T00:00:00",
          "2023-10-13T00:00:00",
          "2023-10-14T00:00:00",
          "2023-10-15T00:00:00",
          "2023-10-16T00:00:00",
          "2023-10-17T00:00:00",
          "2023-10-18T00:00:00",
          "2023-10-19T00:00:00",
          "2023-10-20T00:00:00",
          "2023-10-21T00:00:00",
          "2023-10-22T00:00:00",
          "2023-10-23T00:00:00",
          "2023-10-24T00:00:00",
          "2023-10-25T00:00:00",
          "2023-10-26T00:00:00",
          "2023-10-27T00:00:00",
          "2023-10-28T00:00:00",
          "2023-10-29T00:00:00",
          "2023-10-30T00:00:00",
          "2023-10-31T00:00:00",
          "2023-11-01T00:00:00",
          "2023-11-02T00:00:00",
          "2023-11-03T00:00:00",
          "2023-11-04T00:00:00",
          "2023-11-05T00:00:00",
          "2023-11-06T00:00:00",
          "2023-11-07T00:00:00",
          "2023-11-08T00:00:00",
          "2023-11-09T00:00:00",
          "2023-11-10T00:00:00",
          "2023-11-11T00:00:00",
          "2023-11-12T00:00:00",
          "2023-11-13T00:00:00",
          "2023-11-14T00:00:00",
          "2023-11-15T00:00:00",
          "2023-11-16T00:00:00",
          "2023-11-17T00:00:00",
          "2023-11-18T00:00:00",
          "2023-11-19T00:00:00",
          "2023-11-20T00:00:00",
          "2023-11-21T00:00:00",
          "2023-11-22T00:00:00",
          "2023-11-23T00:00:00",
          "2023-11-24T00:00:00",
          "2023-11-25T00:00:00",
          "2023-11-26T00:00:00",
          "2023-11-27T00:00:00",
          "2023-11-28T00:00:00",
          "2023-11-29T00:00:00",
          "2023-11-30T00:00:00",
          "2023-12-01T00:00:00",
          "2023-12-02T00:00:00",
          "2023-12-03T00:00:00",
          "2023-12-04T00:00:00",
          "2023-12-05T00:00:00",
          "2023-12-06T00:00:00",
          "2023-12-07T00:00:00"
         ],
         "y": [
          null,
          null,
          null,
          null,
          null,
          null,
          null,
          null,
          null,
          null,
          null,
          null,
          null,
          null,
          32.07722853455652,
          26.779275779773986,
          23.699244565838583,
          21.55759003586608,
          20.85426974849377,
          16.61378220576999,
          14.66666247975651,
          13.973563472892803,
          13.281201243023649,
          15.607057627168977,
          14.934409206759492,
          16.79595932684459,
          17.618502966164634,
          17.324478736802345,
          16.068949762188122,
          14.818423085269693,
          14.264904686813198,
          13.309981035728647,
          11.430330015838264,
          12.20505971911942,
          12.99931015685216,
          17.083558423291063,
          18.42907107360405,
          17.589623134303988,
          16.936728150099146,
          16.87726244829425,
          22.92678251957596,
          18.57913468637481,
          20.17247798026029,
          20.99369009228026,
          20.229979777687007,
          19.676311422458543,
          19.797152247005542,
          18.423805178625877,
          22.21671856727017,
          23.59779460158998,
          26.344443930845845,
          24.499660964359965,
          22.11533045054584,
          20.475413297024364,
          18.008011751113937,
          15.453769179937277,
          14.072226210093508,
          12.508246460029058,
          11.82599112863481,
          11.248327811664247,
          10.31320887803214,
          8.308050177640823,
          7.321718222809516,
          8.665543026125988,
          7.755185726938335,
          7.479163176119944,
          6.764215923444986,
          6.166119320495472,
          5.667233586167844,
          7.671578539117743,
          7.1593982138042,
          12.230690707815352,
          11.105610341287026,
          11.168682478678344,
          9.859156186389935,
          8.126129902950193,
          13.968670810187941,
          12.58286064798241,
          11.469147132432658,
          14.21646552496003,
          15.267312697017962,
          14.515711244324965,
          13.432637416465461,
          19.71180119980619,
          18.19720564557178,
          17.35111796928642,
          16.605345574733196,
          15.061587842028947,
          13.81850916482942,
          15.602935238984395,
          16.47561196037937,
          15.8868941747097,
          15.397160533537546,
          14.84750210365563,
          14.280047985685783,
          14.382302849824052,
          13.195750891121175,
          12.426191844390527,
          11.48652595939008,
          11.236674373130425
         ]
        },
        {
         "line": {
          "color": "lightgrey",
          "dash": "dash"
         },
         "mode": "lines",
         "name": "Fixed Line (20)",
         "type": "scatter",
         "x": [
          "2023-08-30T00:00:00",
          "2023-08-31T00:00:00",
          "2023-09-01T00:00:00",
          "2023-09-02T00:00:00",
          "2023-09-03T00:00:00",
          "2023-09-04T00:00:00",
          "2023-09-05T00:00:00",
          "2023-09-06T00:00:00",
          "2023-09-07T00:00:00",
          "2023-09-08T00:00:00",
          "2023-09-09T00:00:00",
          "2023-09-10T00:00:00",
          "2023-09-11T00:00:00",
          "2023-09-12T00:00:00",
          "2023-09-13T00:00:00",
          "2023-09-14T00:00:00",
          "2023-09-15T00:00:00",
          "2023-09-16T00:00:00",
          "2023-09-17T00:00:00",
          "2023-09-18T00:00:00",
          "2023-09-19T00:00:00",
          "2023-09-20T00:00:00",
          "2023-09-21T00:00:00",
          "2023-09-22T00:00:00",
          "2023-09-23T00:00:00",
          "2023-09-24T00:00:00",
          "2023-09-25T00:00:00",
          "2023-09-26T00:00:00",
          "2023-09-27T00:00:00",
          "2023-09-28T00:00:00",
          "2023-09-29T00:00:00",
          "2023-09-30T00:00:00",
          "2023-10-01T00:00:00",
          "2023-10-02T00:00:00",
          "2023-10-03T00:00:00",
          "2023-10-04T00:00:00",
          "2023-10-05T00:00:00",
          "2023-10-06T00:00:00",
          "2023-10-07T00:00:00",
          "2023-10-08T00:00:00",
          "2023-10-09T00:00:00",
          "2023-10-10T00:00:00",
          "2023-10-11T00:00:00",
          "2023-10-12T00:00:00",
          "2023-10-13T00:00:00",
          "2023-10-14T00:00:00",
          "2023-10-15T00:00:00",
          "2023-10-16T00:00:00",
          "2023-10-17T00:00:00",
          "2023-10-18T00:00:00",
          "2023-10-19T00:00:00",
          "2023-10-20T00:00:00",
          "2023-10-21T00:00:00",
          "2023-10-22T00:00:00",
          "2023-10-23T00:00:00",
          "2023-10-24T00:00:00",
          "2023-10-25T00:00:00",
          "2023-10-26T00:00:00",
          "2023-10-27T00:00:00",
          "2023-10-28T00:00:00",
          "2023-10-29T00:00:00",
          "2023-10-30T00:00:00",
          "2023-10-31T00:00:00",
          "2023-11-01T00:00:00",
          "2023-11-02T00:00:00",
          "2023-11-03T00:00:00",
          "2023-11-04T00:00:00",
          "2023-11-05T00:00:00",
          "2023-11-06T00:00:00",
          "2023-11-07T00:00:00",
          "2023-11-08T00:00:00",
          "2023-11-09T00:00:00",
          "2023-11-10T00:00:00",
          "2023-11-11T00:00:00",
          "2023-11-12T00:00:00",
          "2023-11-13T00:00:00",
          "2023-11-14T00:00:00",
          "2023-11-15T00:00:00",
          "2023-11-16T00:00:00",
          "2023-11-17T00:00:00",
          "2023-11-18T00:00:00",
          "2023-11-19T00:00:00",
          "2023-11-20T00:00:00",
          "2023-11-21T00:00:00",
          "2023-11-22T00:00:00",
          "2023-11-23T00:00:00",
          "2023-11-24T00:00:00",
          "2023-11-25T00:00:00",
          "2023-11-26T00:00:00",
          "2023-11-27T00:00:00",
          "2023-11-28T00:00:00",
          "2023-11-29T00:00:00",
          "2023-11-30T00:00:00",
          "2023-12-01T00:00:00",
          "2023-12-02T00:00:00",
          "2023-12-03T00:00:00",
          "2023-12-04T00:00:00",
          "2023-12-05T00:00:00",
          "2023-12-06T00:00:00",
          "2023-12-07T00:00:00"
         ],
         "y": [
          20,
          20,
          20,
          20,
          20,
          20,
          20,
          20,
          20,
          20,
          20,
          20,
          20,
          20,
          20,
          20,
          20,
          20,
          20,
          20,
          20,
          20,
          20,
          20,
          20,
          20,
          20,
          20,
          20,
          20,
          20,
          20,
          20,
          20,
          20,
          20,
          20,
          20,
          20,
          20,
          20,
          20,
          20,
          20,
          20,
          20,
          20,
          20,
          20,
          20,
          20,
          20,
          20,
          20,
          20,
          20,
          20,
          20,
          20,
          20,
          20,
          20,
          20,
          20,
          20,
          20,
          20,
          20,
          20,
          20,
          20,
          20,
          20,
          20,
          20,
          20,
          20,
          20,
          20,
          20,
          20,
          20,
          20,
          20,
          20,
          20,
          20,
          20,
          20,
          20,
          20,
          20,
          20,
          20,
          20,
          20,
          20,
          20,
          20,
          20
         ]
        }
       ],
       "layout": {
        "template": {
         "data": {
          "bar": [
           {
            "error_x": {
             "color": "#2a3f5f"
            },
            "error_y": {
             "color": "#2a3f5f"
            },
            "marker": {
             "line": {
              "color": "#E5ECF6",
              "width": 0.5
             },
             "pattern": {
              "fillmode": "overlay",
              "size": 10,
              "solidity": 0.2
             }
            },
            "type": "bar"
           }
          ],
          "barpolar": [
           {
            "marker": {
             "line": {
              "color": "#E5ECF6",
              "width": 0.5
             },
             "pattern": {
              "fillmode": "overlay",
              "size": 10,
              "solidity": 0.2
             }
            },
            "type": "barpolar"
           }
          ],
          "carpet": [
           {
            "aaxis": {
             "endlinecolor": "#2a3f5f",
             "gridcolor": "white",
             "linecolor": "white",
             "minorgridcolor": "white",
             "startlinecolor": "#2a3f5f"
            },
            "baxis": {
             "endlinecolor": "#2a3f5f",
             "gridcolor": "white",
             "linecolor": "white",
             "minorgridcolor": "white",
             "startlinecolor": "#2a3f5f"
            },
            "type": "carpet"
           }
          ],
          "choropleth": [
           {
            "colorbar": {
             "outlinewidth": 0,
             "ticks": ""
            },
            "type": "choropleth"
           }
          ],
          "contour": [
           {
            "colorbar": {
             "outlinewidth": 0,
             "ticks": ""
            },
            "colorscale": [
             [
              0,
              "#0d0887"
             ],
             [
              0.1111111111111111,
              "#46039f"
             ],
             [
              0.2222222222222222,
              "#7201a8"
             ],
             [
              0.3333333333333333,
              "#9c179e"
             ],
             [
              0.4444444444444444,
              "#bd3786"
             ],
             [
              0.5555555555555556,
              "#d8576b"
             ],
             [
              0.6666666666666666,
              "#ed7953"
             ],
             [
              0.7777777777777778,
              "#fb9f3a"
             ],
             [
              0.8888888888888888,
              "#fdca26"
             ],
             [
              1,
              "#f0f921"
             ]
            ],
            "type": "contour"
           }
          ],
          "contourcarpet": [
           {
            "colorbar": {
             "outlinewidth": 0,
             "ticks": ""
            },
            "type": "contourcarpet"
           }
          ],
          "heatmap": [
           {
            "colorbar": {
             "outlinewidth": 0,
             "ticks": ""
            },
            "colorscale": [
             [
              0,
              "#0d0887"
             ],
             [
              0.1111111111111111,
              "#46039f"
             ],
             [
              0.2222222222222222,
              "#7201a8"
             ],
             [
              0.3333333333333333,
              "#9c179e"
             ],
             [
              0.4444444444444444,
              "#bd3786"
             ],
             [
              0.5555555555555556,
              "#d8576b"
             ],
             [
              0.6666666666666666,
              "#ed7953"
             ],
             [
              0.7777777777777778,
              "#fb9f3a"
             ],
             [
              0.8888888888888888,
              "#fdca26"
             ],
             [
              1,
              "#f0f921"
             ]
            ],
            "type": "heatmap"
           }
          ],
          "heatmapgl": [
           {
            "colorbar": {
             "outlinewidth": 0,
             "ticks": ""
            },
            "colorscale": [
             [
              0,
              "#0d0887"
             ],
             [
              0.1111111111111111,
              "#46039f"
             ],
             [
              0.2222222222222222,
              "#7201a8"
             ],
             [
              0.3333333333333333,
              "#9c179e"
             ],
             [
              0.4444444444444444,
              "#bd3786"
             ],
             [
              0.5555555555555556,
              "#d8576b"
             ],
             [
              0.6666666666666666,
              "#ed7953"
             ],
             [
              0.7777777777777778,
              "#fb9f3a"
             ],
             [
              0.8888888888888888,
              "#fdca26"
             ],
             [
              1,
              "#f0f921"
             ]
            ],
            "type": "heatmapgl"
           }
          ],
          "histogram": [
           {
            "marker": {
             "pattern": {
              "fillmode": "overlay",
              "size": 10,
              "solidity": 0.2
             }
            },
            "type": "histogram"
           }
          ],
          "histogram2d": [
           {
            "colorbar": {
             "outlinewidth": 0,
             "ticks": ""
            },
            "colorscale": [
             [
              0,
              "#0d0887"
             ],
             [
              0.1111111111111111,
              "#46039f"
             ],
             [
              0.2222222222222222,
              "#7201a8"
             ],
             [
              0.3333333333333333,
              "#9c179e"
             ],
             [
              0.4444444444444444,
              "#bd3786"
             ],
             [
              0.5555555555555556,
              "#d8576b"
             ],
             [
              0.6666666666666666,
              "#ed7953"
             ],
             [
              0.7777777777777778,
              "#fb9f3a"
             ],
             [
              0.8888888888888888,
              "#fdca26"
             ],
             [
              1,
              "#f0f921"
             ]
            ],
            "type": "histogram2d"
           }
          ],
          "histogram2dcontour": [
           {
            "colorbar": {
             "outlinewidth": 0,
             "ticks": ""
            },
            "colorscale": [
             [
              0,
              "#0d0887"
             ],
             [
              0.1111111111111111,
              "#46039f"
             ],
             [
              0.2222222222222222,
              "#7201a8"
             ],
             [
              0.3333333333333333,
              "#9c179e"
             ],
             [
              0.4444444444444444,
              "#bd3786"
             ],
             [
              0.5555555555555556,
              "#d8576b"
             ],
             [
              0.6666666666666666,
              "#ed7953"
             ],
             [
              0.7777777777777778,
              "#fb9f3a"
             ],
             [
              0.8888888888888888,
              "#fdca26"
             ],
             [
              1,
              "#f0f921"
             ]
            ],
            "type": "histogram2dcontour"
           }
          ],
          "mesh3d": [
           {
            "colorbar": {
             "outlinewidth": 0,
             "ticks": ""
            },
            "type": "mesh3d"
           }
          ],
          "parcoords": [
           {
            "line": {
             "colorbar": {
              "outlinewidth": 0,
              "ticks": ""
             }
            },
            "type": "parcoords"
           }
          ],
          "pie": [
           {
            "automargin": true,
            "type": "pie"
           }
          ],
          "scatter": [
           {
            "fillpattern": {
             "fillmode": "overlay",
             "size": 10,
             "solidity": 0.2
            },
            "type": "scatter"
           }
          ],
          "scatter3d": [
           {
            "line": {
             "colorbar": {
              "outlinewidth": 0,
              "ticks": ""
             }
            },
            "marker": {
             "colorbar": {
              "outlinewidth": 0,
              "ticks": ""
             }
            },
            "type": "scatter3d"
           }
          ],
          "scattercarpet": [
           {
            "marker": {
             "colorbar": {
              "outlinewidth": 0,
              "ticks": ""
             }
            },
            "type": "scattercarpet"
           }
          ],
          "scattergeo": [
           {
            "marker": {
             "colorbar": {
              "outlinewidth": 0,
              "ticks": ""
             }
            },
            "type": "scattergeo"
           }
          ],
          "scattergl": [
           {
            "marker": {
             "colorbar": {
              "outlinewidth": 0,
              "ticks": ""
             }
            },
            "type": "scattergl"
           }
          ],
          "scattermapbox": [
           {
            "marker": {
             "colorbar": {
              "outlinewidth": 0,
              "ticks": ""
             }
            },
            "type": "scattermapbox"
           }
          ],
          "scatterpolar": [
           {
            "marker": {
             "colorbar": {
              "outlinewidth": 0,
              "ticks": ""
             }
            },
            "type": "scatterpolar"
           }
          ],
          "scatterpolargl": [
           {
            "marker": {
             "colorbar": {
              "outlinewidth": 0,
              "ticks": ""
             }
            },
            "type": "scatterpolargl"
           }
          ],
          "scatterternary": [
           {
            "marker": {
             "colorbar": {
              "outlinewidth": 0,
              "ticks": ""
             }
            },
            "type": "scatterternary"
           }
          ],
          "surface": [
           {
            "colorbar": {
             "outlinewidth": 0,
             "ticks": ""
            },
            "colorscale": [
             [
              0,
              "#0d0887"
             ],
             [
              0.1111111111111111,
              "#46039f"
             ],
             [
              0.2222222222222222,
              "#7201a8"
             ],
             [
              0.3333333333333333,
              "#9c179e"
             ],
             [
              0.4444444444444444,
              "#bd3786"
             ],
             [
              0.5555555555555556,
              "#d8576b"
             ],
             [
              0.6666666666666666,
              "#ed7953"
             ],
             [
              0.7777777777777778,
              "#fb9f3a"
             ],
             [
              0.8888888888888888,
              "#fdca26"
             ],
             [
              1,
              "#f0f921"
             ]
            ],
            "type": "surface"
           }
          ],
          "table": [
           {
            "cells": {
             "fill": {
              "color": "#EBF0F8"
             },
             "line": {
              "color": "white"
             }
            },
            "header": {
             "fill": {
              "color": "#C8D4E3"
             },
             "line": {
              "color": "white"
             }
            },
            "type": "table"
           }
          ]
         },
         "layout": {
          "annotationdefaults": {
           "arrowcolor": "#2a3f5f",
           "arrowhead": 0,
           "arrowwidth": 1
          },
          "autotypenumbers": "strict",
          "coloraxis": {
           "colorbar": {
            "outlinewidth": 0,
            "ticks": ""
           }
          },
          "colorscale": {
           "diverging": [
            [
             0,
             "#8e0152"
            ],
            [
             0.1,
             "#c51b7d"
            ],
            [
             0.2,
             "#de77ae"
            ],
            [
             0.3,
             "#f1b6da"
            ],
            [
             0.4,
             "#fde0ef"
            ],
            [
             0.5,
             "#f7f7f7"
            ],
            [
             0.6,
             "#e6f5d0"
            ],
            [
             0.7,
             "#b8e186"
            ],
            [
             0.8,
             "#7fbc41"
            ],
            [
             0.9,
             "#4d9221"
            ],
            [
             1,
             "#276419"
            ]
           ],
           "sequential": [
            [
             0,
             "#0d0887"
            ],
            [
             0.1111111111111111,
             "#46039f"
            ],
            [
             0.2222222222222222,
             "#7201a8"
            ],
            [
             0.3333333333333333,
             "#9c179e"
            ],
            [
             0.4444444444444444,
             "#bd3786"
            ],
            [
             0.5555555555555556,
             "#d8576b"
            ],
            [
             0.6666666666666666,
             "#ed7953"
            ],
            [
             0.7777777777777778,
             "#fb9f3a"
            ],
            [
             0.8888888888888888,
             "#fdca26"
            ],
            [
             1,
             "#f0f921"
            ]
           ],
           "sequentialminus": [
            [
             0,
             "#0d0887"
            ],
            [
             0.1111111111111111,
             "#46039f"
            ],
            [
             0.2222222222222222,
             "#7201a8"
            ],
            [
             0.3333333333333333,
             "#9c179e"
            ],
            [
             0.4444444444444444,
             "#bd3786"
            ],
            [
             0.5555555555555556,
             "#d8576b"
            ],
            [
             0.6666666666666666,
             "#ed7953"
            ],
            [
             0.7777777777777778,
             "#fb9f3a"
            ],
            [
             0.8888888888888888,
             "#fdca26"
            ],
            [
             1,
             "#f0f921"
            ]
           ]
          },
          "colorway": [
           "#636efa",
           "#EF553B",
           "#00cc96",
           "#ab63fa",
           "#FFA15A",
           "#19d3f3",
           "#FF6692",
           "#B6E880",
           "#FF97FF",
           "#FECB52"
          ],
          "font": {
           "color": "#2a3f5f"
          },
          "geo": {
           "bgcolor": "white",
           "lakecolor": "white",
           "landcolor": "#E5ECF6",
           "showlakes": true,
           "showland": true,
           "subunitcolor": "white"
          },
          "hoverlabel": {
           "align": "left"
          },
          "hovermode": "closest",
          "mapbox": {
           "style": "light"
          },
          "paper_bgcolor": "white",
          "plot_bgcolor": "#E5ECF6",
          "polar": {
           "angularaxis": {
            "gridcolor": "white",
            "linecolor": "white",
            "ticks": ""
           },
           "bgcolor": "#E5ECF6",
           "radialaxis": {
            "gridcolor": "white",
            "linecolor": "white",
            "ticks": ""
           }
          },
          "scene": {
           "xaxis": {
            "backgroundcolor": "#E5ECF6",
            "gridcolor": "white",
            "gridwidth": 2,
            "linecolor": "white",
            "showbackground": true,
            "ticks": "",
            "zerolinecolor": "white"
           },
           "yaxis": {
            "backgroundcolor": "#E5ECF6",
            "gridcolor": "white",
            "gridwidth": 2,
            "linecolor": "white",
            "showbackground": true,
            "ticks": "",
            "zerolinecolor": "white"
           },
           "zaxis": {
            "backgroundcolor": "#E5ECF6",
            "gridcolor": "white",
            "gridwidth": 2,
            "linecolor": "white",
            "showbackground": true,
            "ticks": "",
            "zerolinecolor": "white"
           }
          },
          "shapedefaults": {
           "line": {
            "color": "#2a3f5f"
           }
          },
          "ternary": {
           "aaxis": {
            "gridcolor": "white",
            "linecolor": "white",
            "ticks": ""
           },
           "baxis": {
            "gridcolor": "white",
            "linecolor": "white",
            "ticks": ""
           },
           "bgcolor": "#E5ECF6",
           "caxis": {
            "gridcolor": "white",
            "linecolor": "white",
            "ticks": ""
           }
          },
          "title": {
           "x": 0.05
          },
          "xaxis": {
           "automargin": true,
           "gridcolor": "white",
           "linecolor": "white",
           "ticks": "",
           "title": {
            "standoff": 15
           },
           "zerolinecolor": "white",
           "zerolinewidth": 2
          },
          "yaxis": {
           "automargin": true,
           "gridcolor": "white",
           "linecolor": "white",
           "ticks": "",
           "title": {
            "standoff": 15
           },
           "zerolinecolor": "white",
           "zerolinewidth": 2
          }
         }
        },
        "title": {
         "text": "vl_adx, DI+ and DI- Line Chart with Fixed Line at 20 using Plotly"
        },
        "xaxis": {
         "title": {
          "text": "Date"
         }
        },
        "yaxis": {
         "title": {
          "text": "Values"
         }
        }
       }
      }
     },
     "metadata": {},
     "output_type": "display_data"
    },
    {
     "ename": "KeyError",
     "evalue": "'conversion_line'",
     "output_type": "error",
     "traceback": [
      "\u001b[0;31m---------------------------------------------------------------------------\u001b[0m",
      "\u001b[0;31mKeyError\u001b[0m                                  Traceback (most recent call last)",
      "File \u001b[0;32m~/Documents/vinicius.raphael/crypto_financial_analysis/cfa_venv/lib/python3.11/site-packages/pandas/core/indexes/base.py:3790\u001b[0m, in \u001b[0;36mIndex.get_loc\u001b[0;34m(self, key)\u001b[0m\n\u001b[1;32m   3789\u001b[0m \u001b[39mtry\u001b[39;00m:\n\u001b[0;32m-> 3790\u001b[0m     \u001b[39mreturn\u001b[39;00m \u001b[39mself\u001b[39;49m\u001b[39m.\u001b[39;49m_engine\u001b[39m.\u001b[39;49mget_loc(casted_key)\n\u001b[1;32m   3791\u001b[0m \u001b[39mexcept\u001b[39;00m \u001b[39mKeyError\u001b[39;00m \u001b[39mas\u001b[39;00m err:\n",
      "File \u001b[0;32mindex.pyx:152\u001b[0m, in \u001b[0;36mpandas._libs.index.IndexEngine.get_loc\u001b[0;34m()\u001b[0m\n",
      "File \u001b[0;32mindex.pyx:181\u001b[0m, in \u001b[0;36mpandas._libs.index.IndexEngine.get_loc\u001b[0;34m()\u001b[0m\n",
      "File \u001b[0;32mpandas/_libs/hashtable_class_helper.pxi:7080\u001b[0m, in \u001b[0;36mpandas._libs.hashtable.PyObjectHashTable.get_item\u001b[0;34m()\u001b[0m\n",
      "File \u001b[0;32mpandas/_libs/hashtable_class_helper.pxi:7088\u001b[0m, in \u001b[0;36mpandas._libs.hashtable.PyObjectHashTable.get_item\u001b[0;34m()\u001b[0m\n",
      "\u001b[0;31mKeyError\u001b[0m: 'conversion_line'",
      "\nThe above exception was the direct cause of the following exception:\n",
      "\u001b[0;31mKeyError\u001b[0m                                  Traceback (most recent call last)",
      "\u001b[1;32m/Users/vinicius.sousa/Documents/vinicius.raphael/crypto_financial_analysis/indicators_kucoin.ipynb Cell 17\u001b[0m line \u001b[0;36m6\n\u001b[1;32m      <a href='vscode-notebook-cell:/Users/vinicius.sousa/Documents/vinicius.raphael/crypto_financial_analysis/indicators_kucoin.ipynb#X22sZmlsZQ%3D%3D?line=2'>3</a>\u001b[0m     ichimoku_chart(symbol)\n\u001b[1;32m      <a href='vscode-notebook-cell:/Users/vinicius.sousa/Documents/vinicius.raphael/crypto_financial_analysis/indicators_kucoin.ipynb#X22sZmlsZQ%3D%3D?line=4'>5</a>\u001b[0m \u001b[39m# Chamar a função para criar os gráficos lado a lado\u001b[39;00m\n\u001b[0;32m----> <a href='vscode-notebook-cell:/Users/vinicius.sousa/Documents/vinicius.raphael/crypto_financial_analysis/indicators_kucoin.ipynb#X22sZmlsZQ%3D%3D?line=5'>6</a>\u001b[0m combined_charts(\u001b[39m'\u001b[39;49m\u001b[39mATOMUSDT\u001b[39;49m\u001b[39m'\u001b[39;49m)\n",
      "\u001b[1;32m/Users/vinicius.sousa/Documents/vinicius.raphael/crypto_financial_analysis/indicators_kucoin.ipynb Cell 17\u001b[0m line \u001b[0;36m3\n\u001b[1;32m      <a href='vscode-notebook-cell:/Users/vinicius.sousa/Documents/vinicius.raphael/crypto_financial_analysis/indicators_kucoin.ipynb#X22sZmlsZQ%3D%3D?line=0'>1</a>\u001b[0m \u001b[39mdef\u001b[39;00m \u001b[39mcombined_charts\u001b[39m(symbol):\n\u001b[1;32m      <a href='vscode-notebook-cell:/Users/vinicius.sousa/Documents/vinicius.raphael/crypto_financial_analysis/indicators_kucoin.ipynb#X22sZmlsZQ%3D%3D?line=1'>2</a>\u001b[0m     vl_adx_chart(symbol)\n\u001b[0;32m----> <a href='vscode-notebook-cell:/Users/vinicius.sousa/Documents/vinicius.raphael/crypto_financial_analysis/indicators_kucoin.ipynb#X22sZmlsZQ%3D%3D?line=2'>3</a>\u001b[0m     ichimoku_chart(symbol)\n",
      "\u001b[1;32m/Users/vinicius.sousa/Documents/vinicius.raphael/crypto_financial_analysis/indicators_kucoin.ipynb Cell 17\u001b[0m line \u001b[0;36m1\n\u001b[1;32m      <a href='vscode-notebook-cell:/Users/vinicius.sousa/Documents/vinicius.raphael/crypto_financial_analysis/indicators_kucoin.ipynb#X22sZmlsZQ%3D%3D?line=6'>7</a>\u001b[0m fig2\u001b[39m.\u001b[39madd_trace(go\u001b[39m.\u001b[39mCandlestick(x\u001b[39m=\u001b[39mdf[\u001b[39m'\u001b[39m\u001b[39mdt_date\u001b[39m\u001b[39m'\u001b[39m],\n\u001b[1;32m      <a href='vscode-notebook-cell:/Users/vinicius.sousa/Documents/vinicius.raphael/crypto_financial_analysis/indicators_kucoin.ipynb#X22sZmlsZQ%3D%3D?line=7'>8</a>\u001b[0m                              \u001b[39mopen\u001b[39m\u001b[39m=\u001b[39mdf[\u001b[39m'\u001b[39m\u001b[39mvl_price_open\u001b[39m\u001b[39m'\u001b[39m],\n\u001b[1;32m      <a href='vscode-notebook-cell:/Users/vinicius.sousa/Documents/vinicius.raphael/crypto_financial_analysis/indicators_kucoin.ipynb#X22sZmlsZQ%3D%3D?line=8'>9</a>\u001b[0m                              high\u001b[39m=\u001b[39mdf[\u001b[39m'\u001b[39m\u001b[39mvl_price_high\u001b[39m\u001b[39m'\u001b[39m],\n\u001b[1;32m     <a href='vscode-notebook-cell:/Users/vinicius.sousa/Documents/vinicius.raphael/crypto_financial_analysis/indicators_kucoin.ipynb#X22sZmlsZQ%3D%3D?line=9'>10</a>\u001b[0m                              low\u001b[39m=\u001b[39mdf[\u001b[39m'\u001b[39m\u001b[39mvl_price_low\u001b[39m\u001b[39m'\u001b[39m],\n\u001b[1;32m     <a href='vscode-notebook-cell:/Users/vinicius.sousa/Documents/vinicius.raphael/crypto_financial_analysis/indicators_kucoin.ipynb#X22sZmlsZQ%3D%3D?line=10'>11</a>\u001b[0m                              close\u001b[39m=\u001b[39mdf[\u001b[39m'\u001b[39m\u001b[39mvl_price_close\u001b[39m\u001b[39m'\u001b[39m],\n\u001b[1;32m     <a href='vscode-notebook-cell:/Users/vinicius.sousa/Documents/vinicius.raphael/crypto_financial_analysis/indicators_kucoin.ipynb#X22sZmlsZQ%3D%3D?line=11'>12</a>\u001b[0m                              name\u001b[39m=\u001b[39m\u001b[39m'\u001b[39m\u001b[39mCandlestick\u001b[39m\u001b[39m'\u001b[39m))\n\u001b[1;32m     <a href='vscode-notebook-cell:/Users/vinicius.sousa/Documents/vinicius.raphael/crypto_financial_analysis/indicators_kucoin.ipynb#X22sZmlsZQ%3D%3D?line=13'>14</a>\u001b[0m \u001b[39m# Add Ichimoku Cloud lines\u001b[39;00m\n\u001b[0;32m---> <a href='vscode-notebook-cell:/Users/vinicius.sousa/Documents/vinicius.raphael/crypto_financial_analysis/indicators_kucoin.ipynb#X22sZmlsZQ%3D%3D?line=14'>15</a>\u001b[0m fig2\u001b[39m.\u001b[39madd_trace(go\u001b[39m.\u001b[39mScatter(x\u001b[39m=\u001b[39mdf[\u001b[39m'\u001b[39m\u001b[39mdt_date\u001b[39m\u001b[39m'\u001b[39m], y\u001b[39m=\u001b[39mdf[\u001b[39m'\u001b[39;49m\u001b[39mconversion_line\u001b[39;49m\u001b[39m'\u001b[39;49m], mode\u001b[39m=\u001b[39m\u001b[39m'\u001b[39m\u001b[39mlines\u001b[39m\u001b[39m'\u001b[39m, name\u001b[39m=\u001b[39m\u001b[39m'\u001b[39m\u001b[39mConversion Line\u001b[39m\u001b[39m'\u001b[39m, line\u001b[39m=\u001b[39m\u001b[39mdict\u001b[39m(color\u001b[39m=\u001b[39m\u001b[39m'\u001b[39m\u001b[39mblue\u001b[39m\u001b[39m'\u001b[39m)))\n\u001b[1;32m     <a href='vscode-notebook-cell:/Users/vinicius.sousa/Documents/vinicius.raphael/crypto_financial_analysis/indicators_kucoin.ipynb#X22sZmlsZQ%3D%3D?line=15'>16</a>\u001b[0m fig2\u001b[39m.\u001b[39madd_trace(go\u001b[39m.\u001b[39mScatter(x\u001b[39m=\u001b[39mdf[\u001b[39m'\u001b[39m\u001b[39mdt_date\u001b[39m\u001b[39m'\u001b[39m], y\u001b[39m=\u001b[39mdf[\u001b[39m'\u001b[39m\u001b[39mbase_line\u001b[39m\u001b[39m'\u001b[39m], mode\u001b[39m=\u001b[39m\u001b[39m'\u001b[39m\u001b[39mlines\u001b[39m\u001b[39m'\u001b[39m, name\u001b[39m=\u001b[39m\u001b[39m'\u001b[39m\u001b[39mBase Line\u001b[39m\u001b[39m'\u001b[39m, line\u001b[39m=\u001b[39m\u001b[39mdict\u001b[39m(color\u001b[39m=\u001b[39m\u001b[39m'\u001b[39m\u001b[39mred\u001b[39m\u001b[39m'\u001b[39m)))\n\u001b[1;32m     <a href='vscode-notebook-cell:/Users/vinicius.sousa/Documents/vinicius.raphael/crypto_financial_analysis/indicators_kucoin.ipynb#X22sZmlsZQ%3D%3D?line=16'>17</a>\u001b[0m fig2\u001b[39m.\u001b[39madd_trace(go\u001b[39m.\u001b[39mScatter(x\u001b[39m=\u001b[39mdf[\u001b[39m'\u001b[39m\u001b[39mdt_date\u001b[39m\u001b[39m'\u001b[39m], y\u001b[39m=\u001b[39mdf[\u001b[39m'\u001b[39m\u001b[39mvl_leading_span_a\u001b[39m\u001b[39m'\u001b[39m], mode\u001b[39m=\u001b[39m\u001b[39m'\u001b[39m\u001b[39mlines\u001b[39m\u001b[39m'\u001b[39m, name\u001b[39m=\u001b[39m\u001b[39m'\u001b[39m\u001b[39mLeading Span A\u001b[39m\u001b[39m'\u001b[39m))\n",
      "File \u001b[0;32m~/Documents/vinicius.raphael/crypto_financial_analysis/cfa_venv/lib/python3.11/site-packages/pandas/core/frame.py:3893\u001b[0m, in \u001b[0;36mDataFrame.__getitem__\u001b[0;34m(self, key)\u001b[0m\n\u001b[1;32m   3891\u001b[0m \u001b[39mif\u001b[39;00m \u001b[39mself\u001b[39m\u001b[39m.\u001b[39mcolumns\u001b[39m.\u001b[39mnlevels \u001b[39m>\u001b[39m \u001b[39m1\u001b[39m:\n\u001b[1;32m   3892\u001b[0m     \u001b[39mreturn\u001b[39;00m \u001b[39mself\u001b[39m\u001b[39m.\u001b[39m_getitem_multilevel(key)\n\u001b[0;32m-> 3893\u001b[0m indexer \u001b[39m=\u001b[39m \u001b[39mself\u001b[39;49m\u001b[39m.\u001b[39;49mcolumns\u001b[39m.\u001b[39;49mget_loc(key)\n\u001b[1;32m   3894\u001b[0m \u001b[39mif\u001b[39;00m is_integer(indexer):\n\u001b[1;32m   3895\u001b[0m     indexer \u001b[39m=\u001b[39m [indexer]\n",
      "File \u001b[0;32m~/Documents/vinicius.raphael/crypto_financial_analysis/cfa_venv/lib/python3.11/site-packages/pandas/core/indexes/base.py:3797\u001b[0m, in \u001b[0;36mIndex.get_loc\u001b[0;34m(self, key)\u001b[0m\n\u001b[1;32m   3792\u001b[0m     \u001b[39mif\u001b[39;00m \u001b[39misinstance\u001b[39m(casted_key, \u001b[39mslice\u001b[39m) \u001b[39mor\u001b[39;00m (\n\u001b[1;32m   3793\u001b[0m         \u001b[39misinstance\u001b[39m(casted_key, abc\u001b[39m.\u001b[39mIterable)\n\u001b[1;32m   3794\u001b[0m         \u001b[39mand\u001b[39;00m \u001b[39many\u001b[39m(\u001b[39misinstance\u001b[39m(x, \u001b[39mslice\u001b[39m) \u001b[39mfor\u001b[39;00m x \u001b[39min\u001b[39;00m casted_key)\n\u001b[1;32m   3795\u001b[0m     ):\n\u001b[1;32m   3796\u001b[0m         \u001b[39mraise\u001b[39;00m InvalidIndexError(key)\n\u001b[0;32m-> 3797\u001b[0m     \u001b[39mraise\u001b[39;00m \u001b[39mKeyError\u001b[39;00m(key) \u001b[39mfrom\u001b[39;00m \u001b[39merr\u001b[39;00m\n\u001b[1;32m   3798\u001b[0m \u001b[39mexcept\u001b[39;00m \u001b[39mTypeError\u001b[39;00m:\n\u001b[1;32m   3799\u001b[0m     \u001b[39m# If we have a listlike key, _check_indexing_error will raise\u001b[39;00m\n\u001b[1;32m   3800\u001b[0m     \u001b[39m#  InvalidIndexError. Otherwise we fall through and re-raise\u001b[39;00m\n\u001b[1;32m   3801\u001b[0m     \u001b[39m#  the TypeError.\u001b[39;00m\n\u001b[1;32m   3802\u001b[0m     \u001b[39mself\u001b[39m\u001b[39m.\u001b[39m_check_indexing_error(key)\n",
      "\u001b[0;31mKeyError\u001b[0m: 'conversion_line'"
     ]
    }
   ],
   "source": [
    "def combined_charts(symbol):\n",
    "    vl_adx_chart(symbol)\n",
    "    ichimoku_chart(symbol)\n",
    "\n",
    "# Chamar a função para criar os gráficos lado a lado\n",
    "combined_charts('ATOMUSDT')\n"
   ]
  }
 ],
 "metadata": {
  "kernelspec": {
   "display_name": "env_crypto",
   "language": "python",
   "name": "python3"
  },
  "language_info": {
   "codemirror_mode": {
    "name": "ipython",
    "version": 3
   },
   "file_extension": ".py",
   "mimetype": "text/x-python",
   "name": "python",
   "nbconvert_exporter": "python",
   "pygments_lexer": "ipython3",
   "version": "3.11.0"
  }
 },
 "nbformat": 4,
 "nbformat_minor": 2
}
